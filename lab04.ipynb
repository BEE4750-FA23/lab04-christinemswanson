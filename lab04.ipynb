{
  "cells": [
    {
      "cell_type": "markdown",
      "id": "90beb0c6-974d-46b2-9c08-9ef2be07ab1f",
      "metadata": {},
      "source": [
        "# BEE 4750 Lab 4: Simulation-Optimization\n",
        "\n",
        "**Name**: Christine Swanson \n",
        "\n",
        "**ID**: cms549\n",
        "\n",
        "> **Due Date**\n",
        ">\n",
        "> Friday, 11/17/23, 9:00pm\n",
        "\n",
        "## Setup\n",
        "\n",
        "The following code should go at the top of most Julia scripts; it will\n",
        "load the local package environment and install any needed packages. You\n",
        "will see this often and shouldn’t need to touch it."
      ]
    },
    {
      "cell_type": "code",
      "execution_count": 1,
      "id": "1cfc4bb2",
      "metadata": {},
      "outputs": [
        {
          "name": "stderr",
          "output_type": "stream",
          "text": [
            "\u001b[32m\u001b[1m  Activating\u001b[22m\u001b[39m project at `c:\\Users\\chris\\Box\\classwork\\2023_Fall\\BEE5750\\labs\\lab04-christinemswanson`\n"
          ]
        }
      ],
      "source": [
        "import Pkg\n",
        "Pkg.activate(\".\")\n",
        "Pkg.instantiate()"
      ]
    },
    {
      "cell_type": "code",
      "execution_count": 2,
      "id": "fb72ea2d",
      "metadata": {},
      "outputs": [],
      "source": [
        "using Random # for random seeds\n",
        "using Distributions # statistical distribution interface\n",
        "using Roots # find zeros of functions\n",
        "using Metaheuristics # search algorithms\n",
        "using Plots # plotting"
      ]
    },
    {
      "cell_type": "markdown",
      "id": "1a1312ab-edba-494c-bd21-099b74084719",
      "metadata": {},
      "source": [
        "## Overview\n",
        "\n",
        "In this lab, you will experiment with simulation-optimization with the\n",
        "shallow lake problem. The goal of this experimentation is to get an\n",
        "understanding of how to work with simulation-optimization methods and\n",
        "the impact of some choices involved in using these methods.\n",
        "\n",
        "Free free to delete some of the illustrative cells and code blocks in\n",
        "your notebook as you go through and solve the lab problems…this might\n",
        "help reduce some potential confusion while grading about what your\n",
        "answer is."
      ]
    },
    {
      "cell_type": "markdown",
      "id": "6f5987aa-03f4-444d-815a-cfc39e5d9a39",
      "metadata": {},
      "source": [
        "## Introduction\n",
        "\n",
        "Due to ongoing economic activity, a town emits phosphorous into a\n",
        "shallow lake (with a concentration of $a_t$), which also receives\n",
        "non-point source runoff (concentration $y_t$) from the surrounding area.\n",
        "The concentration of the lake at time $t+1$ is given by\n",
        "$$X_{t+1} = X_t + a_t + y_t + \\frac{X_t^q}{1+X_t^q} - bX_t,$$\n",
        "\n",
        "where:\n",
        "\n",
        "| Parameter | Value                                                |\n",
        "|:---------:|:-----------------------------------------------------|\n",
        "|   $a_t$   | point-source phosphorous concentration from the town |\n",
        "|   $y_t$   | non-point-source phosphorous concentration           |\n",
        "|    $q$    | rate at which phosphorous is recycled from sediment  |\n",
        "|    $b$    | rate at which phosphorous leaves the lake            |\n",
        "\n",
        "and $X_0 = 0$, $y_t \\sim LogNormal(\\log(0.03), 0.25)$, $q=2.5$, and\n",
        "$b=0.4$.\n",
        "\n",
        "The goal of the optimization is to maximize the town’s average\n",
        "phosphorous concentration releases (as a proxy of economic activity):\n",
        "$\\max \\sum_{t=1}^T a_t / T$ over a 100-year period. We have decided\n",
        "(initially) that an acceptable solution is one which will result in the\n",
        "lake eutrophying no more than 10% of the time.\n",
        "\n",
        "The non-point source samples can be sampled using the following code\n",
        "block:"
      ]
    },
    {
      "cell_type": "code",
      "execution_count": 3,
      "id": "fefe59f0",
      "metadata": {},
      "outputs": [
        {
          "data": {
            "text/plain": [
              "100×1000 Matrix{Float64}:\n",
              " 0.0294753  0.0459864  0.023513   …  0.0259183  0.0260934  0.0284652\n",
              " 0.034263   0.0222782  0.0459188     0.0288482  0.0480454  0.0531018\n",
              " 0.0245199  0.0296271  0.0445619     0.0246404  0.0250734  0.0304308\n",
              " 0.055448   0.0312     0.0228208     0.0298609  0.0428105  0.0256198\n",
              " 0.0401417  0.024978   0.0458244     0.0228935  0.0286062  0.0238694\n",
              " 0.0320754  0.021759   0.0471452  …  0.0472771  0.0187508  0.0306753\n",
              " 0.0464641  0.0416385  0.0246833     0.0382252  0.0288505  0.0226561\n",
              " 0.0244027  0.0432707  0.0341214     0.0238988  0.0427204  0.0316143\n",
              " 0.0231156  0.0279197  0.0217747     0.0231772  0.0335662  0.0324465\n",
              " 0.0276303  0.0305858  0.0440326     0.0289394  0.0312328  0.0173388\n",
              " ⋮                                ⋱                        \n",
              " 0.025665   0.0341366  0.0274747     0.0283546  0.0458031  0.0277959\n",
              " 0.0405629  0.0421121  0.0252557     0.0450377  0.0284411  0.0206434\n",
              " 0.0228445  0.0223746  0.0210942     0.0442834  0.0337672  0.0287835\n",
              " 0.0252604  0.0462868  0.0358435     0.0146043  0.023085   0.0240258\n",
              " 0.0237704  0.0378816  0.0291353  …  0.0442565  0.0326019  0.021258\n",
              " 0.0335883  0.0218181  0.0331417     0.0510932  0.0366858  0.0296993\n",
              " 0.0312679  0.0187135  0.0534007     0.0451143  0.026161   0.0183542\n",
              " 0.0382682  0.0310429  0.0296539     0.0471901  0.0283451  0.0219015\n",
              " 0.0256315  0.0232021  0.0239607     0.0350929  0.0293862  0.0348934"
            ]
          },
          "metadata": {},
          "output_type": "display_data"
        }
      ],
      "source": [
        "Random.seed!(1)\n",
        "\n",
        "T = 100 # length of simualtion\n",
        "n_samples = 1_000 # replace with number of samples if you experiment\n",
        "\n",
        "P_distribution = LogNormal(log(0.03), 0.25)\n",
        "y = rand(P_distribution, (T, n_samples)) # sample a T x n_samples matrix"
      ]
    },
    {
      "cell_type": "markdown",
      "id": "374123a9-ce10-4e33-bd56-040d0f5450c0",
      "metadata": {},
      "source": [
        "We write the lake model as a function:"
      ]
    },
    {
      "cell_type": "code",
      "execution_count": 4,
      "id": "e8eaa7b0",
      "metadata": {},
      "outputs": [
        {
          "data": {
            "text/plain": [
              "lake (generic function with 1 method)"
            ]
          },
          "metadata": {},
          "output_type": "display_data"
        }
      ],
      "source": [
        "# lake function model\n",
        "# inputs:\n",
        "#   a: vector of point-source releases (to be optimized)\n",
        "#   y: randomly-sampled non-point sources\n",
        "#   q: lake phosphorous recycling rate\n",
        "#   b: phosphorous outflow rate\n",
        "# \n",
        "# returns:\n",
        "#   series of lake phosphorous concentrations\n",
        "function lake(a, y, q, b, T)\n",
        "    X = zeros(T+1, size(y, 2))\n",
        "    # calculate states\n",
        "    for t = 1:T\n",
        "        X[t+1, :] = X[t, :] .+ a[t] .+ y[t, :] .+ (X[t, :].^q./(1 .+ X[t, :].^q)) .- b.*X[t, :]\n",
        "    end\n",
        "    return X\n",
        "end"
      ]
    },
    {
      "cell_type": "markdown",
      "id": "d64f3ca7-f39a-4841-b163-3fc964a35359",
      "metadata": {},
      "source": [
        "However, this isn’t sufficient on its own! `Metaheuristics.jl` (and most\n",
        "simulation-optimization packages) require the use of a *wrapper*\n",
        "function, which accepts as inputs both parameters to be optimized (in\n",
        "this case, point-source releases `a`) and parameters which will be fixed\n",
        "(the others; see below for how to incorporate these into the syntax) and\n",
        "returns the required information for the optimization procedure.\n",
        "\n",
        "`Metaheuristics.jl` wants its optimizing wrapper function to return (in\n",
        "order):\n",
        "\n",
        "-   the objective(s) (in this case, the mean of `a`, $\\sum_t a_t / T$),\n",
        "-   a vector of the degrees to which the solution fails to achieve any\n",
        "    inequality constraints (positive values indicate a larger failure,\n",
        "    values below zero are considered acceptable)\n",
        "-   a vector of the degrees to which the solution fails to achieve any\n",
        "    equality constraints (only values of zero indicate success), which\n",
        "    in this case is not relevant, so we just return `[0.0]`."
      ]
    },
    {
      "cell_type": "code",
      "execution_count": 5,
      "id": "3b6565f9",
      "metadata": {},
      "outputs": [
        {
          "data": {
            "text/plain": [
              "lake_opt (generic function with 1 method)"
            ]
          },
          "metadata": {},
          "output_type": "display_data"
        }
      ],
      "source": [
        "# function producing optimization outputs\n",
        "# inputs:\n",
        "#   a: vector of point-source releases (to be optimized)\n",
        "#   y: randomly-sampled non-point sources\n",
        "#   q: lake phosphorous recycling rate\n",
        "#   b: phosphorous outflow rate\n",
        "# \n",
        "# returns:\n",
        "#   - objective: mean value of point-source releases\n",
        "#   - inequality constraint failure vector\n",
        "#   - equality constraint failure vector (in this case, always [0.0])\n",
        "function lake_opt(a, y, q, b, T, Xcrit)\n",
        "    X = lake(a, y, q, b, T)\n",
        "    # calculate exceedance of critical value\n",
        "    Pexceed = sum(X[T+1, :] .> Xcrit) / size(X, 2)\n",
        "    failconst = [Pexceed - 0.1] # replace 0.1 if you experiment with the failure probability\n",
        "    return mean(a), failconst, [0.0]\n",
        "end"
      ]
    },
    {
      "cell_type": "markdown",
      "id": "5b74e2e4-31f5-45e9-9eef-7f6ef3445849",
      "metadata": {},
      "source": [
        "To optimize using DE (differential evolution), use the following syntax:\n",
        "\n",
        "``` julia\n",
        "results = optimize(f, bounds, DE(options=Options(f_calls_limit=max_evals)))\n",
        "```\n",
        "\n",
        "where `bounds` is a `Matrix` of lower bounds (first row) and upper\n",
        "bounds (last row), and `max_evals` is an integer for the maximum number\n",
        "of evaluations.\n",
        "\n",
        "-   For example, to set bounds for all decision variables between 0 and\n",
        "    0.5, you can use\n",
        "\n",
        "``` julia\n",
        "bounds = [zeros(T) 0.5ones(T)]'\n",
        "```\n",
        "\n",
        "-   Increasing `max_evals` can help you find a better solution, but at a\n",
        "    larger computational expense.\n",
        "-   You can use an anonymous function to fix values for non-optimized\n",
        "    parameters, *e.g.*\n",
        "\n",
        "``` julia\n",
        "y = ...\n",
        "q = ...\n",
        "b = ...\n",
        "T = ...\n",
        "Xcrit = ...\n",
        "results = optimize(a -> lake_opt(a, y, q, b, t, Xcrit), bounds, DE(options=Options(f_calls_limit=max_evals)))\n",
        "```\n",
        "\n",
        "Then to get the approximated minimum value:\n",
        "\n",
        "``` julia\n",
        "fx = minimum(result)\n",
        "```\n",
        "\n",
        "and the approximated minimizing value:\n",
        "\n",
        "``` julia\n",
        "x = minimizer(result)\n",
        "```\n",
        "\n",
        "The last piece is to get the critical value (to identify failures),\n",
        "which we can do using `Roots.jl`, which finds zeros of functions:"
      ]
    },
    {
      "cell_type": "code",
      "execution_count": 6,
      "id": "b6bdf724",
      "metadata": {},
      "outputs": [
        {
          "ename": "UndefVarError",
          "evalue": "UndefVarError: `q` not defined",
          "output_type": "error",
          "traceback": [
            "UndefVarError: `q` not defined\n",
            "\n",
            "Stacktrace:\n",
            "  [1] P_flux(x::Float64)\n",
            "    @ Main c:\\Users\\chris\\Box\\classwork\\2023_Fall\\BEE5750\\labs\\lab04-christinemswanson\\lab04.ipynb:2\n",
            "  [2] (::Roots.Callable_Function{Val{1}, Val{false}, typeof(P_flux), Nothing})(x::Float64)\n",
            "    @ Roots C:\\Users\\chris\\.julia\\packages\\Roots\\heYQY\\src\\functions.jl:29\n",
            "  [3] init_state(M::Bisection, F::Roots.Callable_Function{Val{1}, Val{false}, typeof(P_flux), Nothing}, x::Tuple{Float64, Float64})\n",
            "    @ Roots C:\\Users\\chris\\.julia\\packages\\Roots\\heYQY\\src\\Bracketing\\bracketing.jl:5\n",
            "  [4] init(𝑭𝑿::ZeroProblem{typeof(P_flux), Tuple{Float64, Float64}}, M::Bisection, p′::Nothing; p::Nothing, verbose::Bool, tracks::Roots.NullTracks, kwargs::Base.Pairs{Symbol, Union{}, Tuple{}, NamedTuple{(), Tuple{}}})\n",
            "    @ Roots C:\\Users\\chris\\.julia\\packages\\Roots\\heYQY\\src\\find_zero.jl:299\n",
            "  [5] init\n",
            "    @ C:\\Users\\chris\\.julia\\packages\\Roots\\heYQY\\src\\find_zero.jl:289 [inlined]\n",
            "  [6] solve(𝑭𝑿::ZeroProblem{typeof(P_flux), Tuple{Float64, Float64}}, M::Bisection, p::Nothing; verbose::Bool, kwargs::Base.Pairs{Symbol, Roots.NullTracks, Tuple{Symbol}, NamedTuple{(:tracks,), Tuple{Roots.NullTracks}}})\n",
            "    @ Roots C:\\Users\\chris\\.julia\\packages\\Roots\\heYQY\\src\\find_zero.jl:491\n",
            "  [7] find_zero(f::Function, x0::Tuple{Float64, Float64}, M::Bisection, p′::Nothing; p::Nothing, verbose::Bool, tracks::Roots.NullTracks, kwargs::Base.Pairs{Symbol, Union{}, Tuple{}, NamedTuple{(), Tuple{}}})\n",
            "    @ Roots C:\\Users\\chris\\.julia\\packages\\Roots\\heYQY\\src\\find_zero.jl:220\n",
            "  [8] find_zero (repeats 2 times)\n",
            "    @ C:\\Users\\chris\\.julia\\packages\\Roots\\heYQY\\src\\find_zero.jl:210 [inlined]\n",
            "  [9] #find_zero#40\n",
            "    @ C:\\Users\\chris\\.julia\\packages\\Roots\\heYQY\\src\\find_zero.jl:243 [inlined]\n",
            " [10] find_zero(f::Function, x0::Tuple{Float64, Float64})\n",
            "    @ Roots C:\\Users\\chris\\.julia\\packages\\Roots\\heYQY\\src\\find_zero.jl:243\n",
            " [11] top-level scope\n",
            "    @ c:\\Users\\chris\\Box\\classwork\\2023_Fall\\BEE5750\\labs\\lab04-christinemswanson\\lab04.ipynb:4"
          ]
        }
      ],
      "source": [
        "# define a function whose zeros are the critical values\n",
        "P_flux(x) = (x^q/(1+x^q)) - b*x\n",
        "# use Roots.find_zero() to find the non-eutrophication and non-zero critical value; we know from visual inspection in class that this is bounded between 0.1 and 1.5.\n",
        "Xcrit = find_zero(P_flux, (0.1, 1.5))"
      ]
    },
    {
      "cell_type": "markdown",
      "id": "c4728395-98d1-4dc0-9b35-783dea8dab42",
      "metadata": {},
      "source": [
        "## Problems\n",
        "\n",
        "### Problem 1 (2 points)\n",
        "\n",
        "Using the default setup above, find the approximate optimum value. What\n",
        "is the value of the objective function, and how many failures (you can\n",
        "evaluate the `lake` function using your solution to find how many\n",
        "end-values are above the critical value)."
      ]
    },
    {
      "cell_type": "markdown",
      "metadata": {},
      "source": [
        "**Response:** Based on the code below, the approximate optimum value is 0.186. I found that there were 1000 failures (the solution fails to achieve any inequality constraints). "
      ]
    },
    {
      "cell_type": "code",
      "execution_count": 12,
      "metadata": {},
      "outputs": [
        {
          "data": {
            "text/html": [
              "<pre>\n",
              "Optimization Result\n",
              "===================\n",
              "  Iteration:       5\n",
              "  Minimum:         0.186008\n",
              "  Minimizer:       [0.0059063, 0.158907, 0.013448, …, 0.437995]\n",
              "  Function calls:  5000\n",
              "  Feasibles:       0 / 1000 in final population\n",
              "  Total time:      44.5870 s\n",
              "  Stop reason:     Maximum objective function calls exceeded.\n",
              "</pre>\n"
            ],
            "text/plain": [
              "\u001b[34m\u001b[1mOptimization Result\u001b[22m\u001b[39m\n",
              "\u001b[39m===================\u001b[39m\n",
              "  Iteration:       5\n",
              "  Minimum:         0.186008\n",
              "  Minimizer:       [0.0059063, 0.158907, 0.013448, …, 0.437995]\n",
              "  Function calls:  5000\n",
              "  Feasibles:       0 / 1000 in final population\n",
              "  Total time:      44.5870 s\n",
              "  Stop reason:     Maximum objective function calls exceeded.\n"
            ]
          },
          "metadata": {},
          "output_type": "display_data"
        }
      ],
      "source": [
        "# set up the bounds and max_evals\n",
        "bounds = [zeros(T) 0.5ones(T)]'\n",
        "max_evals = 5000 # choose a value for this \n",
        "\n",
        "# define q and b\n",
        "q = 2.5\n",
        "b = 0.4\n",
        "\n",
        "y = rand(P_distribution, (T, n_samples))\n",
        "T = 100\n",
        "Xcrit = find_zero(x -> (x^q/(1+x^q)) - b*x, (0.1, 1.5))\n",
        "\n",
        "results = optimize(a -> lake_opt(a, y, q, b, T, Xcrit), bounds, DE(options=Options(f_calls_limit=max_evals)))"
      ]
    },
    {
      "cell_type": "code",
      "execution_count": 13,
      "metadata": {},
      "outputs": [
        {
          "data": {
            "text/plain": [
              "0.18600759538742045"
            ]
          },
          "metadata": {},
          "output_type": "display_data"
        }
      ],
      "source": [
        "# approximated minimum value \n",
        "fx = minimum(results)"
      ]
    },
    {
      "cell_type": "code",
      "execution_count": 14,
      "metadata": {},
      "outputs": [
        {
          "data": {
            "text/plain": [
              "100-element Vector{Float64}:\n",
              " 0.0059062954711946725\n",
              " 0.15890674533337912\n",
              " 0.013448039397962701\n",
              " 0.4243401603299008\n",
              " 0.06099612285399316\n",
              " 0.0015367079373195798\n",
              " 0.09073935918958023\n",
              " 0.1448439233733285\n",
              " 0.3025044240976243\n",
              " 0.4344749752034599\n",
              " ⋮\n",
              " 0.4989593420247759\n",
              " 0.3591320369637938\n",
              " 0.22442581629446914\n",
              " 0.34960842925806973\n",
              " 0.06396360558647252\n",
              " 0.12033226241183444\n",
              " 0.13862764501847014\n",
              " 0.17160176958142\n",
              " 0.4379953104072739"
            ]
          },
          "metadata": {},
          "output_type": "display_data"
        }
      ],
      "source": [
        "# approximated minimizing value \n",
        "x = minimizer(results)"
      ]
    },
    {
      "cell_type": "code",
      "execution_count": 19,
      "metadata": {},
      "outputs": [
        {
          "name": "stdout",
          "output_type": "stream",
          "text": [
            "The number of failures is: 1000"
          ]
        }
      ],
      "source": [
        "X_optimized = lake(x, y, q, b, T)\n",
        "failures = sum(X_optimized[T+1, :] .> Xcrit)\n",
        "\n",
        "print(\"The number of failures is: \", failures)"
      ]
    },
    {
      "cell_type": "markdown",
      "metadata": {},
      "source": [
        "### Problem 2 (5 points)"
      ]
    },
    {
      "cell_type": "markdown",
      "id": "6e0c043b-2186-4baf-be5d-d46b7ed83bc7",
      "metadata": {},
      "source": [
        "Feel free to experiment with some of the degrees of freedom in finding\n",
        "the optimum value. For example:\n",
        "\n",
        "-   What failure probability are you using to characterize acceptable\n",
        "    solutions?\n",
        "-   How many Monte Carlo samples are you using?\n",
        "-   What bounds are you searching over for the releases?\n",
        "-   How many function evaluations are you using for the search?\n",
        "-   What is the impact of different [`Metaheuristics.jl`\n",
        "    algorithms](https://docs.juliahub.com/Metaheuristics/aJ70z/3.2.12/algorithms/)?\n",
        "\n",
        "Note that you might want to modify some of these together: for example,\n",
        "lower acceptable failure probabilities often require more function\n",
        "evaluations to find acceptable values, and more Monte Carlo samples\n",
        "increase computational expense, so fewer function evaluations may be\n",
        "completed in the same time.\n",
        "\n",
        "Provide a description of what you’ve modified and why. What was the new\n",
        "solution that you found? Does it satisfy the constraints?"
      ]
    },
    {
      "cell_type": "markdown",
      "id": "b6a2f2be-6094-4883-aead-180cdb6dc3cc",
      "metadata": {},
      "source": [
        "### Problem 3 (3 points)\n",
        "\n",
        "What did you learn about the use of these methods? Compare with your\n",
        "experience with linear programming from earlier in the semester.\n",
        "\n",
        "## References\n",
        "\n",
        "Put any consulted sources here, including classmates you worked with/who\n",
        "helped you."
      ]
    }
  ],
  "metadata": {
    "kernelspec": {
      "display_name": "Julia 1.9.2",
      "language": "julia",
      "name": "julia-1.9"
    },
    "language_info": {
      "file_extension": ".jl",
      "mimetype": "application/julia",
      "name": "julia",
      "version": "1.9.2"
    }
  },
  "nbformat": 4,
  "nbformat_minor": 5
}
